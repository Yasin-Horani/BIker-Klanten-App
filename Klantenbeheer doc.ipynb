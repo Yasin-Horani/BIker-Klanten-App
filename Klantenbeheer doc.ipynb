{
 "cells": [
  {
   "cell_type": "raw",
   "source": [
    "Python opdracht\n",
    "Voor het bouwen van een simpel Python programma wordt er bij de module ISIP alleen naar het verhuren van fietsen en accessoires gekeken. Voor het bouwen is veel informatie overbodig. Het is belangrijk dat de informatie die je nodig hebt voor het bouwen zelf uit de Biker casus haalt.\n",
    "\n",
    "In de Biker casus de volgende objecten voor:\n",
    "Klant:\n",
    "Van de verschillende objecten moet de volgende gegevens opgeslagen worden: \n",
    "\n",
    "Klant: klantnummer, klant voornaam, klant achternaam, klant straatnaam en nummer, klant postcode, klant woonplaats, klant geboortedatum\n"
   ],
   "metadata": {
    "collapsed": false
   },
   "id": "8f74698c5ef88587"
  },
  {
   "cell_type": "raw",
   "source": [
    "Klantbeheerapplicatie met Tkinter\n",
    "\n",
    "Dit programma maakt gebruik van Tkinter voor de GUI en beheert klantgegevens in een CSV-bestand.\n",
    "Functionaliteiten omvatten het toevoegen, wijzigen, verwijderen en zoeken van klanten."
   ],
   "metadata": {
    "collapsed": false
   },
   "id": "800c03a088694f5d"
  },
  {
   "cell_type": "raw",
   "source": [
    "Het importeren van alle benodigde bibliotheken."
   ],
   "metadata": {
    "collapsed": false
   },
   "id": "10ab2f1b8a3b9f04"
  },
  {
   "cell_type": "raw",
   "source": [
    "Importeer de nodige Tkinter-modules"
   ],
   "metadata": {
    "collapsed": false
   },
   "id": "d96df1a524a5ac21"
  },
  {
   "cell_type": "code",
   "execution_count": null,
   "outputs": [],
   "source": [
    "import tkinter as tk\n",
    "from tkinter import ttk, messagebox"
   ],
   "metadata": {
    "collapsed": false
   },
   "id": "1be8147fe7b061a8"
  },
  {
   "cell_type": "raw",
   "source": [
    "Importeer de Python \"re\" module voor reguliere expressies"
   ],
   "metadata": {
    "collapsed": false
   },
   "id": "1e1c5b902ba5d2e2"
  },
  {
   "cell_type": "code",
   "execution_count": 3,
   "outputs": [],
   "source": [
    "import re"
   ],
   "metadata": {
    "collapsed": false,
    "ExecuteTime": {
     "end_time": "2023-11-14T13:09:33.086174600Z",
     "start_time": "2023-11-14T13:09:33.047384700Z"
    }
   },
   "id": "eb94d1d2fe487e88"
  },
  {
   "cell_type": "raw",
   "source": [
    "Importeer de \"csv\" module voor het lezen/schrijven van CSV-bestanden"
   ],
   "metadata": {
    "collapsed": false
   },
   "id": "c2012ccecd8c39a5"
  },
  {
   "cell_type": "code",
   "execution_count": null,
   "outputs": [],
   "source": [
    "import csv"
   ],
   "metadata": {
    "collapsed": false
   },
   "id": "9756bfff9516ecde"
  },
  {
   "cell_type": "raw",
   "source": [
    "Deze methode wordt automatisch aangeroepen wanneer een nieuw object van deze klasse wordt gemaakt."
   ],
   "metadata": {
    "collapsed": false
   },
   "id": "dd602fc21fbccb7a"
  },
  {
   "cell_type": "code",
   "execution_count": 2,
   "outputs": [
    {
     "ename": "SyntaxError",
     "evalue": "incomplete input (2695146513.py, line 2)",
     "output_type": "error",
     "traceback": [
      "\u001B[1;36m  Cell \u001B[1;32mIn[2], line 2\u001B[1;36m\u001B[0m\n\u001B[1;33m    def __init__(self, root):\u001B[0m\n\u001B[1;37m                             ^\u001B[0m\n\u001B[1;31mSyntaxError\u001B[0m\u001B[1;31m:\u001B[0m incomplete input\n"
     ]
    }
   ],
   "source": [
    "class CustomerManagementApp:\n",
    "    def __init__(self, root):"
   ],
   "metadata": {
    "collapsed": false,
    "ExecuteTime": {
     "end_time": "2023-11-14T13:07:24.748404700Z",
     "start_time": "2023-11-14T13:07:23.851638200Z"
    }
   },
   "id": "1eec908a49dba49f"
  },
  {
   "cell_type": "raw",
   "source": [
    "Variabelen initialiseren"
   ],
   "metadata": {
    "collapsed": false
   },
   "id": "51f4183798a225f7"
  },
  {
   "cell_type": "code",
   "execution_count": null,
   "outputs": [],
   "source": [
    "# Variables\n",
    "        self.root = root\n",
    "        self.root.title(\"Klantbeheer App\")\n",
    "        self.customer_data = []\n",
    "        self.klantnummer = tk.StringVar(value=\"Het klantnummer wordt automatisch toegevoegd.\")\n",
    "        self.selected_customer = tk.StringVar()\n",
    "        self.search_text = tk.StringVar()\n",
    "        self.voornaam = tk.StringVar()\n",
    "        self.achternaam = tk.StringVar()\n",
    "        self.straatnaam = tk.StringVar()\n",
    "        self.nummer = tk.StringVar()\n",
    "        self.postcode = tk.StringVar()\n",
    "        self.woonplaats = tk.StringVar()\n",
    "        self.geboortedatum = tk.StringVar()\n"
   ],
   "metadata": {
    "collapsed": false,
    "ExecuteTime": {
     "start_time": "2023-11-14T13:07:23.894819100Z"
    }
   },
   "id": "a0edd85353f22a63"
  },
  {
   "cell_type": "raw",
   "source": [
    "Navigatieknoppen"
   ],
   "metadata": {
    "collapsed": false
   },
   "id": "cc109aedcebfef22"
  },
  {
   "cell_type": "code",
   "execution_count": null,
   "outputs": [],
   "source": [
    "        ttk.Button(root, text=\"Klanten\", command=self.on_button_click).grid(row=1, column=2, padx=25,pady=10)\n",
    "        ttk.Button(root, text=\"Medewerker\").grid(row=1, column=3, padx=1 , pady=10)\n",
    "        ttk.Button(root, text=\"Artikel\").grid(row=1, column=4, padx=1 , pady=10)\n",
    "        ttk.Button(root, text=\"Huurovereenkomst\").grid(row=1, column=5, padx=1 , pady=10)\n",
    "        ttk.Button(root, text=\"Reparatie\").grid(row=1, column=6, padx=1 , pady=10)"
   ],
   "metadata": {
    "collapsed": false,
    "ExecuteTime": {
     "start_time": "2023-11-14T13:07:23.900803300Z"
    }
   },
   "id": "b20b68148e227d0b"
  },
  {
   "cell_type": "markdown",
   "source": [
    "Labels"
   ],
   "metadata": {
    "collapsed": false
   },
   "id": "60e8ef092ff50a06"
  },
  {
   "cell_type": "code",
   "execution_count": null,
   "outputs": [],
   "source": [
    "        ttk.Label(root, text=\"Klant gegevens\", font=(\"Helvetica\", 18)).place(x=80, y=75)\n",
    "        self.aantal_label = ttk.Label(root, text=\"Aantal klanten: 0\", font=(\"Helvetica\", 12))\n",
    "        self.aantal_label.place(x=480, y=80)"
   ],
   "metadata": {
    "collapsed": false,
    "ExecuteTime": {
     "start_time": "2023-11-14T13:07:23.911815200Z"
    }
   },
   "id": "5163471fbe7c9c32"
  },
  {
   "cell_type": "raw",
   "source": [
    "Invoerveld voor zoeken en zoekknop"
   ],
   "metadata": {
    "collapsed": false
   },
   "id": "723cc9a0e0b4e94b"
  },
  {
   "cell_type": "code",
   "execution_count": null,
   "outputs": [],
   "source": [
    "        # Entry for Search\n",
    "        ttk.Entry(root, textvariable=self.search_text, width=30).place(x=800, y=70)\n",
    "        # Search Button\n",
    "        ttk.Button(root, text=\"Zoeken\", command=self.search_customers).place(x=1050, y=70)"
   ],
   "metadata": {
    "collapsed": false,
    "ExecuteTime": {
     "start_time": "2023-11-14T13:07:23.915820300Z"
    }
   },
   "id": "ba565474f36461d0"
  },
  {
   "cell_type": "raw",
   "source": [
    "Labels voor klantgegevens"
   ],
   "metadata": {
    "collapsed": false
   },
   "id": "ac7b596455f6f973"
  },
  {
   "cell_type": "code",
   "execution_count": null,
   "outputs": [],
   "source": [
    "        ttk.Label(root, text=\"Klantnummer: \", font=(\"Helvetica\", 10)).place(x=30, y=120)\n",
    "        ttk.Label(root, text=\"Voornaam: \", font=(\"Helvetica\", 10)).place(x=30, y=155)\n",
    "        ttk.Label(root, text=\"Achternaam:\", font=(\"Helvetica\", 10)).place(x=30, y=195)\n",
    "        ttk.Label(root, text=\"Straatnaam:\", font=(\"Helvetica\", 10)).place(x=30, y=235)\n",
    "        ttk.Label(root, text=\"Nummer:\", font=(\"Helvetica\", 10)).place(x=30, y=275)\n",
    "        ttk.Label(root, text=\"Postcode:\", font=(\"Helvetica\", 10)).place(x=30, y=315)\n",
    "        ttk.Label(root, text=\"Woonplaats:\", font=(\"Helvetica\", 10)).place(x=30, y=355)\n",
    "        ttk.Label(root, text=\"Geboortedatum:\", font=(\"Helvetica\", 10)).place(x=30, y=395)"
   ],
   "metadata": {
    "collapsed": false,
    "ExecuteTime": {
     "start_time": "2023-11-14T13:07:23.922936100Z"
    }
   },
   "id": "487e6882ca16ee96"
  },
  {
   "cell_type": "raw",
   "source": [
    "Invoervelden voor klantgegevens"
   ],
   "metadata": {
    "collapsed": false
   },
   "id": "8e2dde0f2be82e4a"
  },
  {
   "cell_type": "code",
   "execution_count": null,
   "outputs": [],
   "source": [
    "        # Klant gegevens Entry\n",
    "        ttk.Label(root,textvariable=self.klantnummer, text=\"Het klantnummer wordt automatisch toegevoegd.\", font=(\"Helvetica\", 10)).place(x=150, y=120)\n",
    "        #validate strings\n",
    "        just_string_input = root.register(self.validate_input)\n",
    "        ttk.Entry(root, textvariable=self.voornaam, width=40, validate=\"key\", validatecommand=(just_string_input, \"%P\")).place(x=150, y=150)\n",
    "        ttk.Entry(root, textvariable=self.achternaam, width=40, validate=\"key\", validatecommand=(just_string_input, \"%P\")).place(x=150, y=190)\n",
    "        ttk.Entry(root, textvariable=self.straatnaam, width=40, validate=\"key\", validatecommand=(just_string_input, \"%P\")).place(x=150, y=230)\n",
    "        ttk.Entry(root, textvariable=self.nummer, width=40).place(x=150,  y=270)\n",
    "        #validate Postcode\n",
    "        postcode_validation = root.register(self.validate_postcode)\n",
    "        ttk.Entry(root, textvariable=self.postcode, width=40, validate=\"key\", validatecommand=(postcode_validation, \"%P\")).place(x=150, y=310)\n",
    "        ttk.Entry(root, textvariable=self.woonplaats, width=40, validate=\"key\",validatecommand=(just_string_input, \"%P\")).place(x=150, y=350)\n",
    "        ttk.Entry(root, textvariable=self.geboortedatum, width=40).place(x=150, y=390)"
   ],
   "metadata": {
    "collapsed": false,
    "ExecuteTime": {
     "start_time": "2023-11-14T13:07:23.986309Z"
    }
   },
   "id": "d84369848ffed917"
  },
  {
   "cell_type": "raw",
   "source": [
    "OptionMenu voor het selecteren van klantgegevens"
   ],
   "metadata": {
    "collapsed": false
   },
   "id": "4eb2efdc49436f86"
  },
  {
   "cell_type": "code",
   "execution_count": null,
   "outputs": [],
   "source": [
    "        ttk.Label(root, text=\"Klantnummer | Voornaam | Achternaam | Straatnaam | Nummer | Postcode | Woonplaats | Geboortedatum\").place(x=470,  y=120)\n",
    "        self.customer_menu = ttk.OptionMenu(root, self.selected_customer, \"Selecteer een klant\")\n",
    "        self.customer_menu.place(x=470,  y=140)"
   ],
   "metadata": {
    "collapsed": false,
    "ExecuteTime": {
     "start_time": "2023-11-14T13:07:24.004006500Z"
    }
   },
   "id": "7b62a5e0bfb8b328"
  },
  {
   "cell_type": "raw",
   "source": [
    "Opslaan Button - slaat de huidige klantgegevens op"
   ],
   "metadata": {
    "collapsed": false
   },
   "id": "a795246df181876"
  },
  {
   "cell_type": "code",
   "execution_count": null,
   "outputs": [],
   "source": [
    "ttk.Button(root, text=\"Opslaan\", command=self.save_customer).place(x=30, y=450)"
   ],
   "metadata": {
    "collapsed": false,
    "ExecuteTime": {
     "start_time": "2023-11-14T13:07:24.017965600Z"
    }
   },
   "id": "b89dbb6cbac26ec5"
  },
  {
   "cell_type": "raw",
   "source": [
    "Annuleren Button - maakt alle velden leeg en annuleert de bewerking"
   ],
   "metadata": {
    "collapsed": false
   },
   "id": "98ad0adba6d4765e"
  },
  {
   "cell_type": "code",
   "execution_count": null,
   "outputs": [],
   "source": [
    "ttk.Button(root, text=\"Annuleren\", command=self.clear_fields).place(x=170, y=450)"
   ],
   "metadata": {
    "collapsed": false,
    "ExecuteTime": {
     "start_time": "2023-11-14T13:07:24.027879400Z"
    }
   },
   "id": "4779c6ed6e51e1c8"
  },
  {
   "cell_type": "raw",
   "source": [
    "Wijzigen Button - wijzigt de geselecteerde klantgegevens"
   ],
   "metadata": {
    "collapsed": false
   },
   "id": "b90a64355850a9ee"
  },
  {
   "cell_type": "code",
   "execution_count": null,
   "outputs": [],
   "source": [
    "ttk.Button(root, text=\"Wijzigen\", command=self.update_customer).place(x=480, y=450)"
   ],
   "metadata": {
    "collapsed": false,
    "ExecuteTime": {
     "start_time": "2023-11-14T13:07:24.034859700Z"
    }
   },
   "id": "8e1d949b80750a06"
  },
  {
   "cell_type": "raw",
   "source": [
    "Verwijderen Button - verwijdert de geselecteerde klant"
   ],
   "metadata": {
    "collapsed": false
   },
   "id": "379f8be4329fecd4"
  },
  {
   "cell_type": "code",
   "execution_count": null,
   "outputs": [],
   "source": [
    "ttk.Button(root, text=\"Verwijderen\", command=self.delete_customer).place(x=580, y=450)"
   ],
   "metadata": {
    "collapsed": false,
    "ExecuteTime": {
     "start_time": "2023-11-14T13:07:24.042063500Z"
    }
   },
   "id": "e54b9993bb17e730"
  },
  {
   "cell_type": "raw",
   "source": [
    "Alles tonen Button - toont alle klantgegevens"
   ],
   "metadata": {
    "collapsed": false
   },
   "id": "c953a0d662598489"
  },
  {
   "cell_type": "code",
   "execution_count": null,
   "outputs": [],
   "source": [
    "ttk.Button(root, text=\"Alles tonen\", command=self.show_all_customers).place(x=680, y=450)"
   ],
   "metadata": {
    "collapsed": false,
    "ExecuteTime": {
     "start_time": "2023-11-14T13:07:24.049101700Z"
    }
   },
   "id": "f76a76800cc25753"
  },
  {
   "cell_type": "markdown",
   "source": [
    "Schakelmodus-knop - kan in de toekomst worden gebruikt om tussen donkere en lichte modus te schakelen"
   ],
   "metadata": {
    "collapsed": false
   },
   "id": "3b73a5369858881a"
  },
  {
   "cell_type": "code",
   "execution_count": null,
   "outputs": [],
   "source": [
    "        #switch mode\n",
    "        # self.mode_switch = ttk.Checkbutton(root, text=\"Mode\", style=\"Switch\", command=self.toggle_mode)\n",
    "        # self.mode_switch.place(x=1050, y=450)"
   ],
   "metadata": {
    "collapsed": false,
    "ExecuteTime": {
     "start_time": "2023-11-14T13:07:24.055713900Z"
    }
   },
   "id": "369346ea6fce3fa8"
  },
  {
   "cell_type": "raw",
   "source": [
    "#functions"
   ],
   "metadata": {
    "collapsed": false
   },
   "id": "c4e8f82c1b463c48"
  },
  {
   "cell_type": "raw",
   "source": [
    "customuer_navigation: dit is een test function kan in de toekomst worden gebruikt"
   ],
   "metadata": {
    "collapsed": false
   },
   "id": "e62a8f7c8795ceb4"
  },
  {
   "cell_type": "code",
   "execution_count": null,
   "outputs": [],
   "source": [
    "    def customuer_navigation(self):\n",
    "        messagebox.showinfo(\"Navigatie\", \"klanten Button Clicked\")"
   ],
   "metadata": {
    "collapsed": false,
    "ExecuteTime": {
     "start_time": "2023-11-14T13:07:24.060699800Z"
    }
   },
   "id": "3f19b1ea86bf7eab"
  },
  {
   "cell_type": "raw",
   "source": [
    "Functie voor het valideren van tekstinvoer (alleen letters en spaties toegestaan)"
   ],
   "metadata": {
    "collapsed": false
   },
   "id": "26ac4aa01c5c9aba"
  },
  {
   "cell_type": "code",
   "execution_count": null,
   "outputs": [],
   "source": [
    "    def validate_input(self, char_value):\n",
    "        return all(char.isalpha() or char.isspace() for char in char_value)"
   ],
   "metadata": {
    "collapsed": false,
    "ExecuteTime": {
     "start_time": "2023-11-14T13:07:24.066716300Z"
    }
   },
   "id": "e5a4beb7b761852e"
  },
  {
   "cell_type": "raw",
   "source": [
    "Functie om een nieuwe klant op te slaan en back up"
   ],
   "metadata": {
    "collapsed": false
   },
   "id": "5592d851f0c7e44e"
  },
  {
   "cell_type": "code",
   "execution_count": null,
   "outputs": [],
   "source": [
    "    def save_customer(self):\n",
    "        last_customer_number = self.get_last_customer_number()\n",
    "        new_customer_number = last_customer_number + 1\n",
    "        self.klantnummer.set(new_customer_number)\n",
    "        first_name = self.voornaam.get()\n",
    "        last_name = self.achternaam.get()\n",
    "        street = self.straatnaam.get()\n",
    "        number = self.nummer.get()\n",
    "        zipcode = self.postcode.get()\n",
    "        place = self.woonplaats.get()\n",
    "        date_of_birth = self.geboortedatum.get()\n",
    "\n",
    "        if not first_name or not last_name or not street or not number or not zipcode or not place or not date_of_birth:\n",
    "            messagebox.showerror(\"Error\", \"Vul alle verplichte velden in.\")\n",
    "            return\n",
    "        main_file_path = \"Klanten_data.csv\"\n",
    "        backup_file_path = \"Klanten_data_backup.csv\"\n",
    "        with open(main_file_path, mode=\"a\", newline='') as main_file:\n",
    "            main_writer = csv.writer(main_file)\n",
    "            main_writer.writerow([new_customer_number, first_name, last_name, street, number, zipcode, place, date_of_birth])\n",
    "        #backup    \n",
    "        with open(backup_file_path, mode=\"a\", newline='') as backup_file:\n",
    "            backup_writer = csv.writer(backup_file)\n",
    "            backup_writer.writerow([new_customer_number, first_name, last_name, street, number, zipcode, place, date_of_birth])\n",
    "        self.clear_fields()\n",
    "        self.load_customer_data()  \n",
    "        messagebox.showinfo(\"Success\", \"Klantgegevens succesvol opgeslagen.\")"
   ],
   "metadata": {
    "collapsed": false,
    "ExecuteTime": {
     "start_time": "2023-11-14T13:07:24.071702400Z"
    }
   },
   "id": "7248240a3844c9fd"
  },
  {
   "cell_type": "raw",
   "source": [
    "Functie om het laatste klantnummer op te halen"
   ],
   "metadata": {
    "collapsed": false
   },
   "id": "967bb1a17aa81e82"
  },
  {
   "cell_type": "code",
   "execution_count": null,
   "outputs": [],
   "source": [
    "    def get_last_customer_number(self):\n",
    "        try:\n",
    "            with open(\"Klanten_data.csv\", mode=\"r\") as file:\n",
    "                reader = csv.reader(file)\n",
    "                rows = list(reader)\n",
    "                if rows:\n",
    "                    last_customer_number = int(rows[-1][0])\n",
    "                    return last_customer_number\n",
    "                else:\n",
    "                    return 0\n",
    "        except:\n",
    "            return \"Data Error\""
   ],
   "metadata": {
    "collapsed": false,
    "ExecuteTime": {
     "start_time": "2023-11-14T13:07:24.081269800Z"
    }
   },
   "id": "6ae20c2ae1b4dd64"
  },
  {
   "cell_type": "raw",
   "source": [
    "Functie om alle invoervelden te wissen"
   ],
   "metadata": {
    "collapsed": false
   },
   "id": "3406b9e3fb944023"
  },
  {
   "cell_type": "code",
   "execution_count": null,
   "outputs": [],
   "source": [
    "    def clear_fields(self):\n",
    "        self.klantnummer.set(\"Het klantnummer wordt automatisch toegevoegd.\")\n",
    "        self.voornaam.set(\"\")\n",
    "        self.achternaam.set(\"\")\n",
    "        self.straatnaam.set(\"\")\n",
    "        self.nummer.set(\"\")\n",
    "        self.postcode.set(\"\")\n",
    "        self.woonplaats.set(\"\")\n",
    "        self.geboortedatum.set(\"\")\n",
    "        self.search_text.set(\"\")\n",
    "        self.aantal_label[\"text\"] = f\"Aantal klanten: 0\"\n",
    "        self.selected_customer.set(\"Selecteer een klant\")"
   ],
   "metadata": {
    "collapsed": false,
    "ExecuteTime": {
     "start_time": "2023-11-14T13:07:24.085259200Z"
    }
   },
   "id": "fd10f9e2dffd6ebd"
  },
  {
   "cell_type": "raw",
   "source": [
    "Functie om het klantenmenu bij te werken"
   ],
   "metadata": {
    "collapsed": false
   },
   "id": "1c153520afb73f52"
  },
  {
   "cell_type": "code",
   "execution_count": null,
   "outputs": [],
   "source": [
    "    def update_customer_menu(self):\n",
    "        self.customer_menu[\"menu\"].delete(0, \"end\")\n",
    "        for customer in self.customer_data:\n",
    "            label = f\"{customer[0]}    |    {customer[1]}    |    {customer[2]}    |    {customer[3]}    |    {customer[4]}    |    {customer[5]}    |    {customer[6]}    |    {customer[7]}\"\n",
    "            self.customer_menu[\"menu\"].add_command(label=label, command=lambda c=label: self.set_selected_customer(c))"
   ],
   "metadata": {
    "collapsed": false,
    "ExecuteTime": {
     "start_time": "2023-11-14T13:07:24.089247800Z"
    }
   },
   "id": "42d3b6c30f624fd9"
  },
  {
   "cell_type": "raw",
   "source": [
    "Functie om de geselecteerde klant in te stellen"
   ],
   "metadata": {
    "collapsed": false
   },
   "id": "5f86f50032eb0f5c"
  },
  {
   "cell_type": "code",
   "execution_count": null,
   "outputs": [],
   "source": [
    "    def set_selected_customer(self, customer_label):\n",
    "        self.selected_customer.set(customer_label)\n",
    "        selected_customer_id = customer_label.split()[0]\n",
    "        selected_customer = None\n",
    "        for customer in self.customer_data:\n",
    "            if customer[0] == selected_customer_id:\n",
    "                selected_customer = customer\n",
    "                break\n",
    "\n",
    "        if selected_customer:\n",
    "            self.klantnummer.set(selected_customer[0])\n",
    "            self.voornaam.set(selected_customer[1])\n",
    "            self.achternaam.set(selected_customer[2])\n",
    "            self.straatnaam.set(selected_customer[3])\n",
    "            self.nummer.set(selected_customer[4])\n",
    "            self.postcode.set(selected_customer[5])\n",
    "            self.woonplaats.set(selected_customer[6])\n",
    "            self.geboortedatum.set(selected_customer[7])"
   ],
   "metadata": {
    "collapsed": false,
    "ExecuteTime": {
     "start_time": "2023-11-14T13:07:24.095230700Z"
    }
   },
   "id": "74e3a9d486912aa"
  },
  {
   "cell_type": "raw",
   "source": [
    "Functie om klantgegevens te laden bij het starten van de applicatie"
   ],
   "metadata": {
    "collapsed": false
   },
   "id": "1f62724c15496275"
  },
  {
   "cell_type": "code",
   "execution_count": null,
   "outputs": [],
   "source": [
    "    def load_customer_data(self):\n",
    "        try:\n",
    "            with open(\"Klanten_data.csv\", mode=\"r\") as file:\n",
    "                reader = csv.reader(file)\n",
    "                header = next(reader)\n",
    "                self.customer_data = [row[0::] for row in reader]\n",
    "                aantal_klanten = len(self.customer_data)\n",
    "                self.aantal_label[\"text\"] = f\"Aantal klanten: {aantal_klanten}\"\n",
    "            self.update_customer_menu()\n",
    "        except:\n",
    "            self.customer_data = []"
   ],
   "metadata": {
    "collapsed": false,
    "ExecuteTime": {
     "start_time": "2023-11-14T13:07:24.098548500Z"
    }
   },
   "id": "6f326cc660ab40e0"
  },
  {
   "cell_type": "raw",
   "source": [
    "Functie om alle klantgegevens te tonen door de data opnieuw in te laden"
   ],
   "metadata": {
    "collapsed": false
   },
   "id": "fc796cc8e24dc67"
  },
  {
   "cell_type": "code",
   "execution_count": null,
   "outputs": [],
   "source": [
    "    def show_all_customers(self):\n",
    "        self.load_customer_data()"
   ],
   "metadata": {
    "collapsed": false,
    "ExecuteTime": {
     "start_time": "2023-11-14T13:07:24.102677400Z"
    }
   },
   "id": "a77e423b5fc0e825"
  },
  {
   "cell_type": "raw",
   "source": [
    "Functie om klantgegevens te wijzigen"
   ],
   "metadata": {
    "collapsed": false
   },
   "id": "3917430948313aef"
  },
  {
   "cell_type": "code",
   "execution_count": null,
   "outputs": [],
   "source": [
    "    def update_customer(self):\n",
    "        selected_customer_id = self.klantnummer.get()\n",
    "        if not selected_customer_id or selected_customer_id == \"Het klantnummer wordt automatisch toegevoegd.\":\n",
    "            messagebox.showerror(\"Error\", \"Selecteer een klant om te wijzigen.\")\n",
    "            return\n",
    "\n",
    "        # Get updated data\n",
    "        first_name = self.voornaam.get()\n",
    "        last_name = self.achternaam.get()\n",
    "        street = self.straatnaam.get()\n",
    "        number = self.nummer.get()\n",
    "        zipcode = self.postcode.get()\n",
    "        place = self.woonplaats.get()\n",
    "        date_of_birth = self.geboortedatum.get()\n",
    "\n",
    "        if not first_name or not last_name or not street or not number or not zipcode or not place or not date_of_birth:\n",
    "            messagebox.showerror(\"Error\", \"Vul alle verplichte velden in.\")\n",
    "            return\n",
    "        try:\n",
    "            file_path = \"Klanten_data.csv\"\n",
    "            with open(file_path, mode=\"r\", newline='') as infile:\n",
    "                reader = csv.reader(infile)\n",
    "                rows = list(reader)\n",
    "            for row in rows:\n",
    "                if row[0] == selected_customer_id:\n",
    "                    row[1:] = [first_name, last_name, street, number, zipcode, place, date_of_birth]\n",
    "\n",
    "            with open(file_path, mode=\"w\", newline='') as outfile:\n",
    "                writer = csv.writer(outfile)\n",
    "                writer.writerows(rows)\n",
    "            self.clear_fields()\n",
    "            self.load_customer_data()\n",
    "            messagebox.showinfo(\"Success\", \"Klantgegevens succesvol gewijzigd.\")\n",
    "        except Exception as e:\n",
    "            messagebox.showerror(\"Error\", f\"Fout bij het wijzigen van klantgegevens: {e}\")"
   ],
   "metadata": {
    "collapsed": false,
    "ExecuteTime": {
     "start_time": "2023-11-14T13:07:24.110078600Z"
    }
   },
   "id": "7c5cb4637c93b03"
  },
  {
   "cell_type": "raw",
   "source": [
    "Functie om een klant te verwijderen"
   ],
   "metadata": {
    "collapsed": false
   },
   "id": "4ab14dfb473a792b"
  },
  {
   "cell_type": "code",
   "execution_count": null,
   "outputs": [],
   "source": [
    "    def delete_customer(self):\n",
    "        selected_customer_id = self.klantnummer.get()\n",
    "        if not selected_customer_id or selected_customer_id == \"Het klantnummer wordt automatisch toegevoegd.\":\n",
    "            messagebox.showerror(\"Error\", \"Selecteer een klant om te verwijderen.\")\n",
    "            return\n",
    "        self.customer_data = [customer for customer in self.customer_data if customer[0] != selected_customer_id]\n",
    "        try:\n",
    "            file_path = \"Klanten_data.csv\"\n",
    "            with open(file_path, mode=\"w\", newline='') as file:\n",
    "                writer = csv.writer(file)\n",
    "                writer.writerow([\"Klantnummer\", \"Voornaam\", \"Achternaam\", \"Straatnaam\", \"Nummer\", \"Postcode\", \"Woonplaats\", \"Geboortedatum\"])\n",
    "                writer.writerows(self.customer_data)\n",
    "\n",
    "            self.clear_fields()\n",
    "            self.load_customer_data()\n",
    "\n",
    "            messagebox.showinfo(\"Success\", \"Klantgegevens succesvol verwijderd.\")\n",
    "        except Exception as e:\n",
    "            messagebox.showerror(\"Error\", f\"Fout bij het verwijderen van klantgegevens: {e}\")"
   ],
   "metadata": {
    "collapsed": false,
    "ExecuteTime": {
     "start_time": "2023-11-14T13:07:24.114068300Z"
    }
   },
   "id": "4484d6aa0e8369c6"
  },
  {
   "cell_type": "raw",
   "source": [
    "Functie om klanten te doorzoeken"
   ],
   "metadata": {
    "collapsed": false
   },
   "id": "1e4977d7e3967b68"
  },
  {
   "cell_type": "code",
   "execution_count": null,
   "outputs": [],
   "source": [
    "    def search_customers(self):\n",
    "        search_term = self.search_text.get().lower()\n",
    "\n",
    "        if not search_term:\n",
    "            # If the search term is empty, show all customers\n",
    "            self.show_all_customers()\n",
    "        else:\n",
    "            # Filter customers based on the search term\n",
    "            filtered_customers = [customer for customer in self.customer_data if\n",
    "                                  search_term in [str(value).lower() for value in customer]]\n",
    "\n",
    "            # Update the customer data and the menu\n",
    "            self.customer_data = filtered_customers\n",
    "            self.update_customer_menu()\n",
    "            self.load_customer_data()\n",
    "            # If there are matching customers, select the first one and populate the data\n",
    "            if filtered_customers:\n",
    "                selected_customer_label = f\"{filtered_customers[0][0]}    |    {filtered_customers[0][1]}    |    {filtered_customers[0][2]}    |    {filtered_customers[0][3]}    |    {filtered_customers[0][4]}    |    {filtered_customers[0][5]}    |    {filtered_customers[0][6]}    |    {filtered_customers[0][7]}\"\n",
    "                self.set_selected_customer(selected_customer_label)\n",
    "            else:\n",
    "                messagebox.showinfo(\"No Data\", \"No Data.\")"
   ],
   "metadata": {
    "collapsed": false,
    "ExecuteTime": {
     "start_time": "2023-11-14T13:07:24.117064900Z"
    }
   },
   "id": "bf3a892bf3142d2f"
  },
  {
   "cell_type": "raw",
   "source": [
    "Functie om een postcode te valideren volgens het Nederlandse formaat"
   ],
   "metadata": {
    "collapsed": false
   },
   "id": "8e74e002a7cd9f4a"
  },
  {
   "cell_type": "code",
   "execution_count": null,
   "outputs": [],
   "source": [
    "    def validate_postcode(self, filterd_postcode):\n",
    "        #print(f\"test: {filterd_postcode}\")\n",
    "        return bool(re.match(r'^\\d{0,4}[A-Z]{0,2}$', filterd_postcode.upper()))"
   ],
   "metadata": {
    "collapsed": false,
    "ExecuteTime": {
     "start_time": "2023-11-14T13:07:24.121051200Z"
    }
   },
   "id": "d7a94829a0102940"
  },
  {
   "cell_type": "raw",
   "source": [
    "Schakelmodus-knop - kan in de toekomst worden gebruikt om tussen donkere en lichte modus te schakelen"
   ],
   "metadata": {
    "collapsed": false
   },
   "id": "fbdd1b59879e6a88"
  },
  {
   "cell_type": "code",
   "execution_count": null,
   "outputs": [],
   "source": [
    " # def toggle_mode(self):\n",
    "    #     if self.mode_switch.instate([\"selected\"]):\n",
    "    #         style.theme_use(\"forest-light\")\n",
    "    #     else:\n",
    "    #         style.theme_use(\"forest-dark\")"
   ],
   "metadata": {
    "collapsed": false,
    "ExecuteTime": {
     "start_time": "2023-11-14T13:07:24.127874700Z"
    }
   },
   "id": "ff4d137a33c8087"
  },
  {
   "cell_type": "raw",
   "source": [
    "Start de applicatie met de rootwidget"
   ],
   "metadata": {
    "collapsed": false
   },
   "id": "8521cdd0ea56d8f5"
  },
  {
   "cell_type": "code",
   "execution_count": null,
   "outputs": [],
   "source": [
    "if __name__ == \"__main__\":"
   ],
   "metadata": {
    "collapsed": false,
    "ExecuteTime": {
     "start_time": "2023-11-14T13:07:24.131646600Z"
    }
   },
   "id": "dbd7e8a90ed12323"
  },
  {
   "cell_type": "raw",
   "source": [
    "Creëer de Tkinter-rootwidget"
   ],
   "metadata": {
    "collapsed": false
   },
   "id": "ed509613ffc34bd8"
  },
  {
   "cell_type": "code",
   "execution_count": null,
   "outputs": [],
   "source": [
    "    root = tk.Tk()"
   ],
   "metadata": {
    "collapsed": false,
    "ExecuteTime": {
     "start_time": "2023-11-14T13:07:24.134633300Z"
    }
   },
   "id": "b2e207ef3afc0434"
  },
  {
   "cell_type": "raw",
   "source": [
    "de stijl van de applicatie"
   ],
   "metadata": {
    "collapsed": false
   },
   "id": "3e6cb8e1dc3e385b"
  },
  {
   "cell_type": "code",
   "execution_count": null,
   "outputs": [],
   "source": [
    "    style = ttk.Style(root)\n",
    "    root.tk.call(\"source\", \"forest-light.tcl\")\n",
    "    #root.tk.call(\"source\", \"forest-dark.tcl\")\n",
    "    style.theme_use(\"forest-light\")"
   ],
   "metadata": {
    "collapsed": false,
    "ExecuteTime": {
     "start_time": "2023-11-14T13:07:24.137624500Z"
    }
   },
   "id": "4d343fa04980b708"
  },
  {
   "cell_type": "raw",
   "source": [
    "size van de applicatie "
   ],
   "metadata": {
    "collapsed": false
   },
   "id": "b1e0938d32a3e6b9"
  },
  {
   "cell_type": "code",
   "execution_count": null,
   "outputs": [],
   "source": [
    "    root.geometry(\"1200x550\")\n",
    "    root.resizable(False, False)"
   ],
   "metadata": {
    "collapsed": false,
    "ExecuteTime": {
     "start_time": "2023-11-14T13:07:24.142610700Z"
    }
   },
   "id": "2a93d5941405c595"
  },
  {
   "cell_type": "raw",
   "source": [
    "Start de applicatie met de rootwidget"
   ],
   "metadata": {
    "collapsed": false
   },
   "id": "e2996567cd7cb9bb"
  },
  {
   "cell_type": "code",
   "execution_count": null,
   "outputs": [],
   "source": [
    "app = CustomerManagementApp(root)"
   ],
   "metadata": {
    "collapsed": false,
    "ExecuteTime": {
     "start_time": "2023-11-14T13:07:24.147599Z"
    }
   },
   "id": "33a958a91501503a"
  },
  {
   "cell_type": "raw",
   "source": [
    "Start de Tkinter-eventloop"
   ],
   "metadata": {
    "collapsed": false
   },
   "id": "7a5bb979950abc58"
  },
  {
   "cell_type": "code",
   "execution_count": 3,
   "outputs": [
    {
     "ename": "NameError",
     "evalue": "name 'root' is not defined",
     "output_type": "error",
     "traceback": [
      "\u001B[1;31m---------------------------------------------------------------------------\u001B[0m",
      "\u001B[1;31mNameError\u001B[0m                                 Traceback (most recent call last)",
      "Cell \u001B[1;32mIn[3], line 1\u001B[0m\n\u001B[1;32m----> 1\u001B[0m \u001B[43mroot\u001B[49m\u001B[38;5;241m.\u001B[39mmainloop()\n",
      "\u001B[1;31mNameError\u001B[0m: name 'root' is not defined"
     ]
    }
   ],
   "source": [
    "root.mainloop()"
   ],
   "metadata": {
    "collapsed": false,
    "ExecuteTime": {
     "end_time": "2023-12-10T15:02:24.622880200Z",
     "start_time": "2023-12-10T15:02:24.446674500Z"
    }
   },
   "id": "1b54af47d92e9367"
  },
  {
   "cell_type": "code",
   "execution_count": 4,
   "outputs": [
    {
     "name": "stdout",
     "output_type": "stream",
     "text": [
      "copyright Yasin Horani (～￣▽￣)～  -.-- .- ... .. -. / .... --- .-. .- -. ..\n"
     ]
    }
   ],
   "source": [
    "print(\"copyright Yasin Horani (～￣▽￣)～  -.-- .- ... .. -. / .... --- .-. .- -. ..\")"
   ],
   "metadata": {
    "collapsed": false,
    "ExecuteTime": {
     "end_time": "2023-12-10T15:02:27.939406700Z",
     "start_time": "2023-12-10T15:02:27.925560Z"
    }
   },
   "id": "8f90c2c2302b7806"
  },
  {
   "cell_type": "code",
   "execution_count": null,
   "outputs": [],
   "source": [],
   "metadata": {
    "collapsed": false
   },
   "id": "f20f42f64d073b94"
  }
 ],
 "metadata": {
  "kernelspec": {
   "display_name": "Python 3",
   "language": "python",
   "name": "python3"
  },
  "language_info": {
   "codemirror_mode": {
    "name": "ipython",
    "version": 2
   },
   "file_extension": ".py",
   "mimetype": "text/x-python",
   "name": "python",
   "nbconvert_exporter": "python",
   "pygments_lexer": "ipython2",
   "version": "2.7.6"
  }
 },
 "nbformat": 4,
 "nbformat_minor": 5
}
